{
 "cells": [
  {
   "cell_type": "markdown",
   "metadata": {},
   "source": [
    "###### The entire world is transforming digitally and our relationship with technology has grown exponentially over the last few years. We have grown closer to technology, and it has made our life a lot easier by saving time and effort. Today everything is accessible with smartphones — from groceries to cooked food and from medicines to doctors. In this hackathon, we provide you with data that is a by-product as well as a thriving proof of this growing relationship. \n",
    "\n",
    "###### When was the last time you ordered food online? And how long did it take to reach you?\n",
    "\n",
    "###### In this hackathon, we are providing you with data from thousands of restaurants in India regarding the time they take to deliver food for online order. As data scientists, your goal is to predict the online order delivery time based on the given factors.\n",
    "\n",
    "###### Analytics India Magazine and IMS Proschool bring to you ‘Predicting Predicting Food Delivery Time Hackathon’.\n",
    "\n",
    "###### Size of training set: 11,094 records\n",
    "\n",
    "###### Size of test set: 2,774 records\n",
    "\n",
    "###### FEATURES:\n",
    "\n",
    "###### Restaurant: A unique ID that represents a restaurant.\n",
    "###### Location: The location of the restaurant.\n",
    "###### Cuisines: The cuisines offered by the restaurant.\n",
    "###### Average_Cost: The average cost for one person/order.\n",
    "###### Minimum_Order: The minimum order amount.\n",
    "###### Rating: Customer rating for the restaurant.\n",
    "###### Votes: The total number of customer votes for the restaurant.\n",
    "###### Reviews: The number of customer reviews for the restaurant.\n",
    "###### Delivery_Time: The order delivery time of the restaurant. (Target Classes) \n",
    "\n",
    "##### Links for Reference: https://www.machinehack.com/course/predicting-restaurant-food-cost-hackathon/"
   ]
  },
  {
   "cell_type": "code",
   "execution_count": 1,
   "metadata": {},
   "outputs": [],
   "source": [
    "import numpy as np\n",
    "import pandas as pd\n",
    "import matplotlib.pyplot as plt\n",
    "import seaborn as sns\n",
    "import itertools\n",
    "# for plotting the ROC Curve\n",
    "from sklearn.metrics import roc_curve, auc"
   ]
  },
  {
   "cell_type": "code",
   "execution_count": 2,
   "metadata": {},
   "outputs": [],
   "source": [
    "from sklearn.preprocessing import LabelEncoder\n",
    "le=LabelEncoder()\n",
    "import warnings\n",
    "warnings.filterwarnings('ignore')\n",
    "\n",
    "from scipy.stats import zscore\n",
    "from sklearn.model_selection import train_test_split\n",
    "from sklearn.metrics import accuracy_score,confusion_matrix\n",
    "from time import time\n",
    "from sklearn.model_selection import train_test_split\n",
    "from sklearn.linear_model import LogisticRegression\n",
    "from sklearn.tree import DecisionTreeClassifier\n",
    "from sklearn.neighbors import KNeighborsClassifier\n",
    "from sklearn.ensemble import RandomForestClassifier,AdaBoostClassifier,BaggingClassifier,ExtraTreesClassifier\n",
    "lr=LogisticRegression()\n",
    "dt=DecisionTreeClassifier()\n",
    "knn=KNeighborsClassifier()\n",
    "rf=RandomForestClassifier()\n",
    "ada=AdaBoostClassifier()\n",
    "bag=BaggingClassifier()\n",
    "xtree=ExtraTreesClassifier()\n",
    "from sklearn.model_selection import GridSearchCV\n",
    "from sklearn.feature_extraction.text import CountVectorizer\n",
    "count=CountVectorizer()\n",
    "from sklearn.decomposition import PCA"
   ]
  },
  {
   "cell_type": "code",
   "execution_count": 3,
   "metadata": {},
   "outputs": [],
   "source": [
    "trainset = pd.read_excel(r'E:\\Huyen\\DS_Practice\\Predict Delivery Time\\Participants Data\\Data_Train.xlsx')\n",
    "testset = pd.read_excel(r'E:\\Huyen\\DS_Practice\\Predict Delivery Time\\Participants Data\\Data_Test.xlsx')\n"
   ]
  },
  {
   "cell_type": "code",
   "execution_count": 4,
   "metadata": {},
   "outputs": [
    {
     "data": {
      "text/html": [
       "<div>\n",
       "<style scoped>\n",
       "    .dataframe tbody tr th:only-of-type {\n",
       "        vertical-align: middle;\n",
       "    }\n",
       "\n",
       "    .dataframe tbody tr th {\n",
       "        vertical-align: top;\n",
       "    }\n",
       "\n",
       "    .dataframe thead th {\n",
       "        text-align: right;\n",
       "    }\n",
       "</style>\n",
       "<table border=\"1\" class=\"dataframe\">\n",
       "  <thead>\n",
       "    <tr style=\"text-align: right;\">\n",
       "      <th></th>\n",
       "      <th>Restaurant</th>\n",
       "      <th>Location</th>\n",
       "      <th>Cuisines</th>\n",
       "      <th>Average_Cost</th>\n",
       "      <th>Minimum_Order</th>\n",
       "      <th>Rating</th>\n",
       "      <th>Votes</th>\n",
       "      <th>Reviews</th>\n",
       "      <th>Delivery_Time</th>\n",
       "    </tr>\n",
       "  </thead>\n",
       "  <tbody>\n",
       "    <tr>\n",
       "      <th>0</th>\n",
       "      <td>ID_6321</td>\n",
       "      <td>FTI College, Law College Road, Pune</td>\n",
       "      <td>Fast Food, Rolls, Burger, Salad, Wraps</td>\n",
       "      <td>₹200</td>\n",
       "      <td>₹50</td>\n",
       "      <td>3.5</td>\n",
       "      <td>12</td>\n",
       "      <td>4</td>\n",
       "      <td>30 minutes</td>\n",
       "    </tr>\n",
       "    <tr>\n",
       "      <th>1</th>\n",
       "      <td>ID_2882</td>\n",
       "      <td>Sector 3, Marathalli</td>\n",
       "      <td>Ice Cream, Desserts</td>\n",
       "      <td>₹100</td>\n",
       "      <td>₹50</td>\n",
       "      <td>3.5</td>\n",
       "      <td>11</td>\n",
       "      <td>4</td>\n",
       "      <td>30 minutes</td>\n",
       "    </tr>\n",
       "    <tr>\n",
       "      <th>2</th>\n",
       "      <td>ID_1595</td>\n",
       "      <td>Mumbai Central</td>\n",
       "      <td>Italian, Street Food, Fast Food</td>\n",
       "      <td>₹150</td>\n",
       "      <td>₹50</td>\n",
       "      <td>3.6</td>\n",
       "      <td>99</td>\n",
       "      <td>30</td>\n",
       "      <td>65 minutes</td>\n",
       "    </tr>\n",
       "    <tr>\n",
       "      <th>3</th>\n",
       "      <td>ID_5929</td>\n",
       "      <td>Sector 1, Noida</td>\n",
       "      <td>Mughlai, North Indian, Chinese</td>\n",
       "      <td>₹250</td>\n",
       "      <td>₹99</td>\n",
       "      <td>3.7</td>\n",
       "      <td>176</td>\n",
       "      <td>95</td>\n",
       "      <td>30 minutes</td>\n",
       "    </tr>\n",
       "    <tr>\n",
       "      <th>4</th>\n",
       "      <td>ID_6123</td>\n",
       "      <td>Rmz Centennial, I Gate, Whitefield</td>\n",
       "      <td>Cafe, Beverages</td>\n",
       "      <td>₹200</td>\n",
       "      <td>₹99</td>\n",
       "      <td>3.2</td>\n",
       "      <td>521</td>\n",
       "      <td>235</td>\n",
       "      <td>65 minutes</td>\n",
       "    </tr>\n",
       "  </tbody>\n",
       "</table>\n",
       "</div>"
      ],
      "text/plain": [
       "  Restaurant                             Location  \\\n",
       "0    ID_6321  FTI College, Law College Road, Pune   \n",
       "1    ID_2882                 Sector 3, Marathalli   \n",
       "2    ID_1595                       Mumbai Central   \n",
       "3    ID_5929                      Sector 1, Noida   \n",
       "4    ID_6123   Rmz Centennial, I Gate, Whitefield   \n",
       "\n",
       "                                 Cuisines Average_Cost Minimum_Order Rating  \\\n",
       "0  Fast Food, Rolls, Burger, Salad, Wraps         ₹200           ₹50    3.5   \n",
       "1                     Ice Cream, Desserts         ₹100           ₹50    3.5   \n",
       "2         Italian, Street Food, Fast Food         ₹150           ₹50    3.6   \n",
       "3          Mughlai, North Indian, Chinese         ₹250           ₹99    3.7   \n",
       "4                         Cafe, Beverages         ₹200           ₹99    3.2   \n",
       "\n",
       "  Votes Reviews Delivery_Time  \n",
       "0    12       4    30 minutes  \n",
       "1    11       4    30 minutes  \n",
       "2    99      30    65 minutes  \n",
       "3   176      95    30 minutes  \n",
       "4   521     235    65 minutes  "
      ]
     },
     "execution_count": 4,
     "metadata": {},
     "output_type": "execute_result"
    }
   ],
   "source": [
    "trainset.head(5)"
   ]
  },
  {
   "cell_type": "code",
   "execution_count": 5,
   "metadata": {},
   "outputs": [
    {
     "data": {
      "text/plain": [
       "(11094, 9)"
      ]
     },
     "execution_count": 5,
     "metadata": {},
     "output_type": "execute_result"
    }
   ],
   "source": [
    "trainset.shape"
   ]
  },
  {
   "cell_type": "code",
   "execution_count": 6,
   "metadata": {},
   "outputs": [
    {
     "data": {
      "text/html": [
       "<div>\n",
       "<style scoped>\n",
       "    .dataframe tbody tr th:only-of-type {\n",
       "        vertical-align: middle;\n",
       "    }\n",
       "\n",
       "    .dataframe tbody tr th {\n",
       "        vertical-align: top;\n",
       "    }\n",
       "\n",
       "    .dataframe thead th {\n",
       "        text-align: right;\n",
       "    }\n",
       "</style>\n",
       "<table border=\"1\" class=\"dataframe\">\n",
       "  <thead>\n",
       "    <tr style=\"text-align: right;\">\n",
       "      <th></th>\n",
       "      <th>Restaurant</th>\n",
       "      <th>Location</th>\n",
       "      <th>Cuisines</th>\n",
       "      <th>Average_Cost</th>\n",
       "      <th>Minimum_Order</th>\n",
       "      <th>Rating</th>\n",
       "      <th>Votes</th>\n",
       "      <th>Reviews</th>\n",
       "    </tr>\n",
       "  </thead>\n",
       "  <tbody>\n",
       "    <tr>\n",
       "      <th>0</th>\n",
       "      <td>ID_2842</td>\n",
       "      <td>Mico Layout, Stage 2, BTM Layout,Bangalore</td>\n",
       "      <td>North Indian, Chinese, Assamese</td>\n",
       "      <td>₹350</td>\n",
       "      <td>₹50</td>\n",
       "      <td>4.2</td>\n",
       "      <td>361</td>\n",
       "      <td>225</td>\n",
       "    </tr>\n",
       "    <tr>\n",
       "      <th>1</th>\n",
       "      <td>ID_730</td>\n",
       "      <td>Mico Layout, Stage 2, BTM Layout,Bangalore</td>\n",
       "      <td>Biryani, Kebab</td>\n",
       "      <td>₹100</td>\n",
       "      <td>₹50</td>\n",
       "      <td>NEW</td>\n",
       "      <td>-</td>\n",
       "      <td>-</td>\n",
       "    </tr>\n",
       "    <tr>\n",
       "      <th>2</th>\n",
       "      <td>ID_4620</td>\n",
       "      <td>Sector 1, Noida</td>\n",
       "      <td>Fast Food</td>\n",
       "      <td>₹100</td>\n",
       "      <td>₹50</td>\n",
       "      <td>3.6</td>\n",
       "      <td>36</td>\n",
       "      <td>16</td>\n",
       "    </tr>\n",
       "    <tr>\n",
       "      <th>3</th>\n",
       "      <td>ID_5470</td>\n",
       "      <td>Babarpur, New Delhi, Delhi</td>\n",
       "      <td>Mithai, North Indian, Chinese, Fast Food, Sout...</td>\n",
       "      <td>₹200</td>\n",
       "      <td>₹50</td>\n",
       "      <td>3.6</td>\n",
       "      <td>66</td>\n",
       "      <td>33</td>\n",
       "    </tr>\n",
       "    <tr>\n",
       "      <th>4</th>\n",
       "      <td>ID_3249</td>\n",
       "      <td>Sector 1, Noida</td>\n",
       "      <td>Chinese, Fast Food</td>\n",
       "      <td>₹150</td>\n",
       "      <td>₹50</td>\n",
       "      <td>2.9</td>\n",
       "      <td>38</td>\n",
       "      <td>14</td>\n",
       "    </tr>\n",
       "  </tbody>\n",
       "</table>\n",
       "</div>"
      ],
      "text/plain": [
       "  Restaurant                                    Location  \\\n",
       "0    ID_2842  Mico Layout, Stage 2, BTM Layout,Bangalore   \n",
       "1     ID_730  Mico Layout, Stage 2, BTM Layout,Bangalore   \n",
       "2    ID_4620                             Sector 1, Noida   \n",
       "3    ID_5470                  Babarpur, New Delhi, Delhi   \n",
       "4    ID_3249                             Sector 1, Noida   \n",
       "\n",
       "                                            Cuisines Average_Cost  \\\n",
       "0                    North Indian, Chinese, Assamese         ₹350   \n",
       "1                                     Biryani, Kebab         ₹100   \n",
       "2                                          Fast Food         ₹100   \n",
       "3  Mithai, North Indian, Chinese, Fast Food, Sout...         ₹200   \n",
       "4                                 Chinese, Fast Food         ₹150   \n",
       "\n",
       "  Minimum_Order Rating Votes Reviews  \n",
       "0           ₹50    4.2   361     225  \n",
       "1           ₹50    NEW     -       -  \n",
       "2           ₹50    3.6    36      16  \n",
       "3           ₹50    3.6    66      33  \n",
       "4           ₹50    2.9    38      14  "
      ]
     },
     "execution_count": 6,
     "metadata": {},
     "output_type": "execute_result"
    }
   ],
   "source": [
    "testset.head(5)"
   ]
  },
  {
   "cell_type": "code",
   "execution_count": 7,
   "metadata": {},
   "outputs": [
    {
     "data": {
      "text/plain": [
       "(2774, 8)"
      ]
     },
     "execution_count": 7,
     "metadata": {},
     "output_type": "execute_result"
    }
   ],
   "source": [
    "testset.shape"
   ]
  },
  {
   "cell_type": "code",
   "execution_count": null,
   "metadata": {},
   "outputs": [],
   "source": []
  },
  {
   "cell_type": "markdown",
   "metadata": {},
   "source": [
    "#### First we need to clean and perform EDA on this dataset"
   ]
  },
  {
   "cell_type": "code",
   "execution_count": 10,
   "metadata": {},
   "outputs": [
    {
     "name": "stdout",
     "output_type": "stream",
     "text": [
      "<class 'pandas.core.frame.DataFrame'>\n",
      "RangeIndex: 11094 entries, 0 to 11093\n",
      "Data columns (total 9 columns):\n",
      "Restaurant       11094 non-null object\n",
      "Location         11094 non-null object\n",
      "Cuisines         11094 non-null object\n",
      "Average_Cost     11094 non-null object\n",
      "Minimum_Order    11094 non-null object\n",
      "Rating           11094 non-null object\n",
      "Votes            11094 non-null object\n",
      "Reviews          11094 non-null object\n",
      "Delivery_Time    11094 non-null object\n",
      "dtypes: object(9)\n",
      "memory usage: 390.1+ KB\n"
     ]
    }
   ],
   "source": [
    "trainset.info()              "
   ]
  },
  {
   "cell_type": "code",
   "execution_count": 11,
   "metadata": {},
   "outputs": [
    {
     "name": "stdout",
     "output_type": "stream",
     "text": [
      "<class 'pandas.core.frame.DataFrame'>\n",
      "RangeIndex: 2774 entries, 0 to 2773\n",
      "Data columns (total 8 columns):\n",
      "Restaurant       2774 non-null object\n",
      "Location         2774 non-null object\n",
      "Cuisines         2774 non-null object\n",
      "Average_Cost     2774 non-null object\n",
      "Minimum_Order    2774 non-null object\n",
      "Rating           2774 non-null object\n",
      "Votes            2774 non-null object\n",
      "Reviews          2774 non-null object\n",
      "dtypes: object(8)\n",
      "memory usage: 86.7+ KB\n"
     ]
    }
   ],
   "source": [
    "testset.info()"
   ]
  },
  {
   "cell_type": "code",
   "execution_count": 12,
   "metadata": {},
   "outputs": [],
   "source": [
    "#transform data and replace the addional symbol\n",
    "\n",
    "trainset['Restaurant']=le.fit_transform(trainset['Restaurant'])\n",
    "trainset['Location']=le.fit_transform(trainset['Location'])\n",
    "trainset['Minimum_Order']=pd.to_numeric(trainset['Minimum_Order'].str.replace('₹',' '))\n",
    "trainset['Average_Cost']=pd.to_numeric(trainset['Average_Cost'].str.replace('[^0-9]',''))\n",
    "trainset['Rating']=pd.to_numeric(trainset['Rating'].apply(lambda x : np.nan if x in ['Temporarily Closed','Opening Soon','-','NEW'] else x))\n",
    "trainset['Votes']=pd.to_numeric(trainset['Votes'].apply(lambda x : np.nan if x=='-' else x))\n",
    "trainset['Reviews']=pd.to_numeric(trainset['Reviews'].apply(lambda x : np.nan if x=='-' else x))\n",
    "trainset['Delivery_Time']=pd.to_numeric(trainset['Delivery_Time'].str.replace('[^0-9]',''))"
   ]
  },
  {
   "cell_type": "code",
   "execution_count": 13,
   "metadata": {},
   "outputs": [
    {
     "data": {
      "image/png": "[encoded data removed]",
      "text/plain": [
       "<Figure size 432x288 with 2 Axes>"
      ]
     },
     "metadata": {
      "needs_background": "light"
     },
     "output_type": "display_data"
    }
   ],
   "source": [
    "corr = trainset.corr()\n",
    "fig = plt.figure()\n",
    "ax = fig.add_subplot(111)\n",
    "cax = ax.matshow(corr,cmap='coolwarm', vmin=-1, vmax=1)\n",
    "fig.colorbar(cax)\n",
    "ticks = np.arange(0,len(trainset.columns),1)\n",
    "ax.set_xticks(ticks)\n",
    "plt.xticks(rotation=90)\n",
    "ax.set_yticks(ticks)\n",
    "ax.set_xticklabels(trainset.columns)\n",
    "ax.set_yticklabels(trainset.columns)\n",
    "plt.show()"
   ]
  },
  {
   "cell_type": "code",
   "execution_count": 11,
   "metadata": {},
   "outputs": [
    {
     "data": {
      "text/html": [
       "<div>\n",
       "<style scoped>\n",
       "    .dataframe tbody tr th:only-of-type {\n",
       "        vertical-align: middle;\n",
       "    }\n",
       "\n",
       "    .dataframe tbody tr th {\n",
       "        vertical-align: top;\n",
       "    }\n",
       "\n",
       "    .dataframe thead th {\n",
       "        text-align: right;\n",
       "    }\n",
       "</style>\n",
       "<table border=\"1\" class=\"dataframe\">\n",
       "  <thead>\n",
       "    <tr style=\"text-align: right;\">\n",
       "      <th></th>\n",
       "      <th>Restaurant</th>\n",
       "      <th>Location</th>\n",
       "      <th>Cuisines</th>\n",
       "      <th>Average_Cost</th>\n",
       "      <th>Minimum_Order</th>\n",
       "      <th>Rating</th>\n",
       "      <th>Votes</th>\n",
       "      <th>Reviews</th>\n",
       "      <th>Delivery_Time</th>\n",
       "    </tr>\n",
       "  </thead>\n",
       "  <tbody>\n",
       "    <tr>\n",
       "      <th>0</th>\n",
       "      <td>5086</td>\n",
       "      <td>10</td>\n",
       "      <td>Fast Food, Rolls, Burger, Salad, Wraps</td>\n",
       "      <td>200.0</td>\n",
       "      <td>50</td>\n",
       "      <td>3.5</td>\n",
       "      <td>12.0</td>\n",
       "      <td>4.0</td>\n",
       "      <td>30</td>\n",
       "    </tr>\n",
       "    <tr>\n",
       "      <th>1</th>\n",
       "      <td>1785</td>\n",
       "      <td>30</td>\n",
       "      <td>Ice Cream, Desserts</td>\n",
       "      <td>100.0</td>\n",
       "      <td>50</td>\n",
       "      <td>3.5</td>\n",
       "      <td>11.0</td>\n",
       "      <td>4.0</td>\n",
       "      <td>30</td>\n",
       "    </tr>\n",
       "    <tr>\n",
       "      <th>2</th>\n",
       "      <td>571</td>\n",
       "      <td>19</td>\n",
       "      <td>Italian, Street Food, Fast Food</td>\n",
       "      <td>150.0</td>\n",
       "      <td>50</td>\n",
       "      <td>3.6</td>\n",
       "      <td>99.0</td>\n",
       "      <td>30.0</td>\n",
       "      <td>65</td>\n",
       "    </tr>\n",
       "    <tr>\n",
       "      <th>3</th>\n",
       "      <td>4708</td>\n",
       "      <td>28</td>\n",
       "      <td>Mughlai, North Indian, Chinese</td>\n",
       "      <td>250.0</td>\n",
       "      <td>99</td>\n",
       "      <td>3.7</td>\n",
       "      <td>176.0</td>\n",
       "      <td>95.0</td>\n",
       "      <td>30</td>\n",
       "    </tr>\n",
       "    <tr>\n",
       "      <th>4</th>\n",
       "      <td>4896</td>\n",
       "      <td>26</td>\n",
       "      <td>Cafe, Beverages</td>\n",
       "      <td>200.0</td>\n",
       "      <td>99</td>\n",
       "      <td>3.2</td>\n",
       "      <td>521.0</td>\n",
       "      <td>235.0</td>\n",
       "      <td>65</td>\n",
       "    </tr>\n",
       "  </tbody>\n",
       "</table>\n",
       "</div>"
      ],
      "text/plain": [
       "   Restaurant  Location                                Cuisines  Average_Cost  \\\n",
       "0        5086        10  Fast Food, Rolls, Burger, Salad, Wraps         200.0   \n",
       "1        1785        30                     Ice Cream, Desserts         100.0   \n",
       "2         571        19         Italian, Street Food, Fast Food         150.0   \n",
       "3        4708        28          Mughlai, North Indian, Chinese         250.0   \n",
       "4        4896        26                         Cafe, Beverages         200.0   \n",
       "\n",
       "   Minimum_Order  Rating  Votes  Reviews  Delivery_Time  \n",
       "0             50     3.5   12.0      4.0             30  \n",
       "1             50     3.5   11.0      4.0             30  \n",
       "2             50     3.6   99.0     30.0             65  \n",
       "3             99     3.7  176.0     95.0             30  \n",
       "4             99     3.2  521.0    235.0             65  "
      ]
     },
     "execution_count": 11,
     "metadata": {},
     "output_type": "execute_result"
    }
   ],
   "source": [
    "trainset.head(5)"
   ]
  },
  {
   "cell_type": "code",
   "execution_count": 12,
   "metadata": {},
   "outputs": [
    {
     "data": {
      "text/plain": [
       "Index(['Average_Cost', 'Rating', 'Votes', 'Reviews'], dtype='object')"
      ]
     },
     "execution_count": 12,
     "metadata": {},
     "output_type": "execute_result"
    }
   ],
   "source": [
    "# Check missing value\n",
    "\n",
    "trainset.columns[trainset.isnull().any()]"
   ]
  },
  {
   "cell_type": "code",
   "execution_count": 13,
   "metadata": {},
   "outputs": [],
   "source": [
    "# Fill up the missing Value\n",
    "\n",
    "q1=trainset['Rating'].quantile(0.25)\n",
    "q3=trainset['Rating'].quantile(0.75)\n",
    "iqr=q3-q1\n",
    "trainset['Rating']=trainset['Rating'].apply(lambda x: np.nan if x>q3+1.5*iqr or x<q1-1.5*iqr else x)\n",
    "trainset['Rating']=trainset['Rating'].fillna(trainset['Rating'].median())\n",
    "\n",
    "\n",
    "q1=trainset['Votes'].quantile(0.25)\n",
    "q3=trainset['Votes'].quantile(0.75)\n",
    "iqr=q3-q1\n",
    "trainset['Votes']=trainset['Votes'].apply(lambda x: np.nan if x>(q3+1.5*iqr) or x<(q1-1.5*iqr) else x)\n",
    "trainset['Votes']=trainset['Votes'].fillna(trainset['Votes'].mode()[0])\n",
    "\n",
    "\n",
    "q1=trainset['Reviews'].quantile(0.25)\n",
    "q3=trainset['Reviews'].quantile(0.75)\n",
    "iqr=q3-q1\n",
    "trainset['Reviews']=trainset['Reviews'].apply(lambda x: np.nan if x>(q3+1.5*iqr) or x<(q1-1.5*iqr) else x)\n",
    "trainset['Reviews']=trainset['Reviews'].fillna(round(trainset['Reviews'].mean()))\n",
    "\n",
    "q1=trainset['Average_Cost'].quantile(0.25)\n",
    "q3=trainset['Average_Cost'].quantile(0.75)\n",
    "iqr=q3-q1\n",
    "trainset['Average_Cost']=trainset['Average_Cost'].apply(lambda x: np.nan if x>(q3+1.5*iqr) or x<(q1-1.5*iqr) else x)\n",
    "trainset['Average_Cost']=trainset['Average_Cost'].fillna(round(trainset['Average_Cost'].mean()))"
   ]
  },
  {
   "cell_type": "code",
   "execution_count": 14,
   "metadata": {},
   "outputs": [
    {
     "data": {
      "text/plain": [
       "Restaurant         int32\n",
       "Location           int32\n",
       "Cuisines          object\n",
       "Average_Cost     float64\n",
       "Minimum_Order      int64\n",
       "Rating           float64\n",
       "Votes            float64\n",
       "Reviews          float64\n",
       "Delivery_Time      int64\n",
       "dtype: object"
      ]
     },
     "execution_count": 14,
     "metadata": {},
     "output_type": "execute_result"
    }
   ],
   "source": [
    "trainset.dtypes"
   ]
  },
  {
   "cell_type": "code",
   "execution_count": 15,
   "metadata": {},
   "outputs": [
    {
     "data": {
      "text/html": [
       "<div>\n",
       "<style scoped>\n",
       "    .dataframe tbody tr th:only-of-type {\n",
       "        vertical-align: middle;\n",
       "    }\n",
       "\n",
       "    .dataframe tbody tr th {\n",
       "        vertical-align: top;\n",
       "    }\n",
       "\n",
       "    .dataframe thead th {\n",
       "        text-align: right;\n",
       "    }\n",
       "</style>\n",
       "<table border=\"1\" class=\"dataframe\">\n",
       "  <thead>\n",
       "    <tr style=\"text-align: right;\">\n",
       "      <th></th>\n",
       "      <th>Restaurant</th>\n",
       "      <th>Location</th>\n",
       "      <th>Cuisines</th>\n",
       "      <th>Average_Cost</th>\n",
       "      <th>Minimum_Order</th>\n",
       "      <th>Rating</th>\n",
       "      <th>Votes</th>\n",
       "      <th>Reviews</th>\n",
       "      <th>Delivery_Time</th>\n",
       "    </tr>\n",
       "  </thead>\n",
       "  <tbody>\n",
       "    <tr>\n",
       "      <th>0</th>\n",
       "      <td>5086</td>\n",
       "      <td>10</td>\n",
       "      <td>Fast Food, Rolls, Burger, Salad, Wraps</td>\n",
       "      <td>200.0</td>\n",
       "      <td>50</td>\n",
       "      <td>3.5</td>\n",
       "      <td>12.0</td>\n",
       "      <td>4.0</td>\n",
       "      <td>30</td>\n",
       "    </tr>\n",
       "    <tr>\n",
       "      <th>1</th>\n",
       "      <td>1785</td>\n",
       "      <td>30</td>\n",
       "      <td>Ice Cream, Desserts</td>\n",
       "      <td>100.0</td>\n",
       "      <td>50</td>\n",
       "      <td>3.5</td>\n",
       "      <td>11.0</td>\n",
       "      <td>4.0</td>\n",
       "      <td>30</td>\n",
       "    </tr>\n",
       "    <tr>\n",
       "      <th>2</th>\n",
       "      <td>571</td>\n",
       "      <td>19</td>\n",
       "      <td>Italian, Street Food, Fast Food</td>\n",
       "      <td>150.0</td>\n",
       "      <td>50</td>\n",
       "      <td>3.6</td>\n",
       "      <td>99.0</td>\n",
       "      <td>30.0</td>\n",
       "      <td>65</td>\n",
       "    </tr>\n",
       "    <tr>\n",
       "      <th>3</th>\n",
       "      <td>4708</td>\n",
       "      <td>28</td>\n",
       "      <td>Mughlai, North Indian, Chinese</td>\n",
       "      <td>250.0</td>\n",
       "      <td>99</td>\n",
       "      <td>3.7</td>\n",
       "      <td>176.0</td>\n",
       "      <td>95.0</td>\n",
       "      <td>30</td>\n",
       "    </tr>\n",
       "    <tr>\n",
       "      <th>4</th>\n",
       "      <td>4896</td>\n",
       "      <td>26</td>\n",
       "      <td>Cafe, Beverages</td>\n",
       "      <td>200.0</td>\n",
       "      <td>99</td>\n",
       "      <td>3.2</td>\n",
       "      <td>4.0</td>\n",
       "      <td>39.0</td>\n",
       "      <td>65</td>\n",
       "    </tr>\n",
       "  </tbody>\n",
       "</table>\n",
       "</div>"
      ],
      "text/plain": [
       "   Restaurant  Location                                Cuisines  Average_Cost  \\\n",
       "0        5086        10  Fast Food, Rolls, Burger, Salad, Wraps         200.0   \n",
       "1        1785        30                     Ice Cream, Desserts         100.0   \n",
       "2         571        19         Italian, Street Food, Fast Food         150.0   \n",
       "3        4708        28          Mughlai, North Indian, Chinese         250.0   \n",
       "4        4896        26                         Cafe, Beverages         200.0   \n",
       "\n",
       "   Minimum_Order  Rating  Votes  Reviews  Delivery_Time  \n",
       "0             50     3.5   12.0      4.0             30  \n",
       "1             50     3.5   11.0      4.0             30  \n",
       "2             50     3.6   99.0     30.0             65  \n",
       "3             99     3.7  176.0     95.0             30  \n",
       "4             99     3.2    4.0     39.0             65  "
      ]
     },
     "execution_count": 15,
     "metadata": {},
     "output_type": "execute_result"
    }
   ],
   "source": [
    "trainset.head(5)"
   ]
  },
  {
   "cell_type": "code",
   "execution_count": 16,
   "metadata": {},
   "outputs": [
    {
     "data": {
      "text/html": [
       "<div>\n",
       "<style scoped>\n",
       "    .dataframe tbody tr th:only-of-type {\n",
       "        vertical-align: middle;\n",
       "    }\n",
       "\n",
       "    .dataframe tbody tr th {\n",
       "        vertical-align: top;\n",
       "    }\n",
       "\n",
       "    .dataframe thead th {\n",
       "        text-align: right;\n",
       "    }\n",
       "</style>\n",
       "<table border=\"1\" class=\"dataframe\">\n",
       "  <thead>\n",
       "    <tr style=\"text-align: right;\">\n",
       "      <th></th>\n",
       "      <th>Restaurant</th>\n",
       "      <th>Location</th>\n",
       "      <th>Cuisines</th>\n",
       "      <th>Average_Cost</th>\n",
       "      <th>Minimum_Order</th>\n",
       "      <th>Rating</th>\n",
       "      <th>Votes</th>\n",
       "      <th>Reviews</th>\n",
       "      <th>Delivery_Time</th>\n",
       "    </tr>\n",
       "  </thead>\n",
       "  <tbody>\n",
       "    <tr>\n",
       "      <th>0</th>\n",
       "      <td>5086</td>\n",
       "      <td>10</td>\n",
       "      <td>Fast Food, Rolls, Burger, Salad, Wraps</td>\n",
       "      <td>200.0</td>\n",
       "      <td>50</td>\n",
       "      <td>3.5</td>\n",
       "      <td>12.0</td>\n",
       "      <td>4.0</td>\n",
       "      <td>30</td>\n",
       "    </tr>\n",
       "    <tr>\n",
       "      <th>1</th>\n",
       "      <td>1785</td>\n",
       "      <td>30</td>\n",
       "      <td>Ice Cream, Desserts</td>\n",
       "      <td>100.0</td>\n",
       "      <td>50</td>\n",
       "      <td>3.5</td>\n",
       "      <td>11.0</td>\n",
       "      <td>4.0</td>\n",
       "      <td>30</td>\n",
       "    </tr>\n",
       "    <tr>\n",
       "      <th>2</th>\n",
       "      <td>571</td>\n",
       "      <td>19</td>\n",
       "      <td>Italian, Street Food, Fast Food</td>\n",
       "      <td>150.0</td>\n",
       "      <td>50</td>\n",
       "      <td>3.6</td>\n",
       "      <td>99.0</td>\n",
       "      <td>30.0</td>\n",
       "      <td>65</td>\n",
       "    </tr>\n",
       "    <tr>\n",
       "      <th>3</th>\n",
       "      <td>4708</td>\n",
       "      <td>28</td>\n",
       "      <td>Mughlai, North Indian, Chinese</td>\n",
       "      <td>250.0</td>\n",
       "      <td>99</td>\n",
       "      <td>3.7</td>\n",
       "      <td>176.0</td>\n",
       "      <td>95.0</td>\n",
       "      <td>30</td>\n",
       "    </tr>\n",
       "    <tr>\n",
       "      <th>4</th>\n",
       "      <td>4896</td>\n",
       "      <td>26</td>\n",
       "      <td>Cafe, Beverages</td>\n",
       "      <td>200.0</td>\n",
       "      <td>99</td>\n",
       "      <td>3.2</td>\n",
       "      <td>4.0</td>\n",
       "      <td>39.0</td>\n",
       "      <td>65</td>\n",
       "    </tr>\n",
       "    <tr>\n",
       "      <th>5</th>\n",
       "      <td>4030</td>\n",
       "      <td>26</td>\n",
       "      <td>South Indian, North Indian, Chinese</td>\n",
       "      <td>150.0</td>\n",
       "      <td>50</td>\n",
       "      <td>3.8</td>\n",
       "      <td>46.0</td>\n",
       "      <td>18.0</td>\n",
       "      <td>30</td>\n",
       "    </tr>\n",
       "    <tr>\n",
       "      <th>6</th>\n",
       "      <td>2649</td>\n",
       "      <td>19</td>\n",
       "      <td>Beverages, Fast Food</td>\n",
       "      <td>150.0</td>\n",
       "      <td>50</td>\n",
       "      <td>3.7</td>\n",
       "      <td>108.0</td>\n",
       "      <td>31.0</td>\n",
       "      <td>30</td>\n",
       "    </tr>\n",
       "    <tr>\n",
       "      <th>7</th>\n",
       "      <td>6168</td>\n",
       "      <td>8</td>\n",
       "      <td>Chinese, Thai, Asian</td>\n",
       "      <td>173.0</td>\n",
       "      <td>50</td>\n",
       "      <td>4.0</td>\n",
       "      <td>4.0</td>\n",
       "      <td>39.0</td>\n",
       "      <td>45</td>\n",
       "    </tr>\n",
       "    <tr>\n",
       "      <th>8</th>\n",
       "      <td>1871</td>\n",
       "      <td>8</td>\n",
       "      <td>Mithai, Street Food</td>\n",
       "      <td>100.0</td>\n",
       "      <td>50</td>\n",
       "      <td>3.9</td>\n",
       "      <td>110.0</td>\n",
       "      <td>26.0</td>\n",
       "      <td>30</td>\n",
       "    </tr>\n",
       "    <tr>\n",
       "      <th>9</th>\n",
       "      <td>2353</td>\n",
       "      <td>28</td>\n",
       "      <td>Fast Food, North Indian, Rolls, Chinese, Momos...</td>\n",
       "      <td>200.0</td>\n",
       "      <td>50</td>\n",
       "      <td>3.9</td>\n",
       "      <td>4.0</td>\n",
       "      <td>39.0</td>\n",
       "      <td>65</td>\n",
       "    </tr>\n",
       "  </tbody>\n",
       "</table>\n",
       "</div>"
      ],
      "text/plain": [
       "   Restaurant  Location                                           Cuisines  \\\n",
       "0        5086        10             Fast Food, Rolls, Burger, Salad, Wraps   \n",
       "1        1785        30                                Ice Cream, Desserts   \n",
       "2         571        19                    Italian, Street Food, Fast Food   \n",
       "3        4708        28                     Mughlai, North Indian, Chinese   \n",
       "4        4896        26                                    Cafe, Beverages   \n",
       "5        4030        26                South Indian, North Indian, Chinese   \n",
       "6        2649        19                               Beverages, Fast Food   \n",
       "7        6168         8                               Chinese, Thai, Asian   \n",
       "8        1871         8                                Mithai, Street Food   \n",
       "9        2353        28  Fast Food, North Indian, Rolls, Chinese, Momos...   \n",
       "\n",
       "   Average_Cost  Minimum_Order  Rating  Votes  Reviews  Delivery_Time  \n",
       "0         200.0             50     3.5   12.0      4.0             30  \n",
       "1         100.0             50     3.5   11.0      4.0             30  \n",
       "2         150.0             50     3.6   99.0     30.0             65  \n",
       "3         250.0             99     3.7  176.0     95.0             30  \n",
       "4         200.0             99     3.2    4.0     39.0             65  \n",
       "5         150.0             50     3.8   46.0     18.0             30  \n",
       "6         150.0             50     3.7  108.0     31.0             30  \n",
       "7         173.0             50     4.0    4.0     39.0             45  \n",
       "8         100.0             50     3.9  110.0     26.0             30  \n",
       "9         200.0             50     3.9    4.0     39.0             65  "
      ]
     },
     "execution_count": 16,
     "metadata": {},
     "output_type": "execute_result"
    }
   ],
   "source": [
    "trainset.head(10)"
   ]
  },
  {
   "cell_type": "code",
   "execution_count": 17,
   "metadata": {},
   "outputs": [
    {
     "data": {
      "text/plain": [
       "Index(['Restaurant', 'Location', 'Cuisines', 'Average_Cost', 'Minimum_Order',\n",
       "       'Rating', 'Votes', 'Reviews', 'Delivery_Time'],\n",
       "      dtype='object')"
      ]
     },
     "execution_count": 17,
     "metadata": {},
     "output_type": "execute_result"
    }
   ],
   "source": [
    "trainset.columns"
   ]
  },
  {
   "cell_type": "code",
   "execution_count": 18,
   "metadata": {},
   "outputs": [],
   "source": [
    "trainset[\"Average_Cost\"] = trainset.Average_Cost.convert_objects(convert_numeric=True)"
   ]
  },
  {
   "cell_type": "code",
   "execution_count": 19,
   "metadata": {},
   "outputs": [],
   "source": [
    "trainset[\"Minimum_Order\"] = trainset.Minimum_Order.convert_objects(convert_numeric=True)\n",
    "trainset[\"Rating\"] = trainset.Rating.convert_objects(convert_numeric=True)\n",
    "trainset[\"Votes\"] = trainset.Votes.convert_objects(convert_numeric=True)\n",
    "trainset[\"Reviews\"] = trainset.Reviews.convert_objects(convert_numeric=True)"
   ]
  },
  {
   "cell_type": "code",
   "execution_count": 20,
   "metadata": {},
   "outputs": [
    {
     "data": {
      "text/html": [
       "<div>\n",
       "<style scoped>\n",
       "    .dataframe tbody tr th:only-of-type {\n",
       "        vertical-align: middle;\n",
       "    }\n",
       "\n",
       "    .dataframe tbody tr th {\n",
       "        vertical-align: top;\n",
       "    }\n",
       "\n",
       "    .dataframe thead th {\n",
       "        text-align: right;\n",
       "    }\n",
       "</style>\n",
       "<table border=\"1\" class=\"dataframe\">\n",
       "  <thead>\n",
       "    <tr style=\"text-align: right;\">\n",
       "      <th></th>\n",
       "      <th>Restaurant</th>\n",
       "      <th>Location</th>\n",
       "      <th>Cuisines</th>\n",
       "      <th>Average_Cost</th>\n",
       "      <th>Minimum_Order</th>\n",
       "      <th>Rating</th>\n",
       "      <th>Votes</th>\n",
       "      <th>Reviews</th>\n",
       "      <th>Delivery_Time</th>\n",
       "    </tr>\n",
       "  </thead>\n",
       "  <tbody>\n",
       "    <tr>\n",
       "      <th>0</th>\n",
       "      <td>5086</td>\n",
       "      <td>10</td>\n",
       "      <td>Fast Food, Rolls, Burger, Salad, Wraps</td>\n",
       "      <td>200.0</td>\n",
       "      <td>50</td>\n",
       "      <td>3.5</td>\n",
       "      <td>12.0</td>\n",
       "      <td>4.0</td>\n",
       "      <td>30</td>\n",
       "    </tr>\n",
       "    <tr>\n",
       "      <th>1</th>\n",
       "      <td>1785</td>\n",
       "      <td>30</td>\n",
       "      <td>Ice Cream, Desserts</td>\n",
       "      <td>100.0</td>\n",
       "      <td>50</td>\n",
       "      <td>3.5</td>\n",
       "      <td>11.0</td>\n",
       "      <td>4.0</td>\n",
       "      <td>30</td>\n",
       "    </tr>\n",
       "    <tr>\n",
       "      <th>2</th>\n",
       "      <td>571</td>\n",
       "      <td>19</td>\n",
       "      <td>Italian, Street Food, Fast Food</td>\n",
       "      <td>150.0</td>\n",
       "      <td>50</td>\n",
       "      <td>3.6</td>\n",
       "      <td>99.0</td>\n",
       "      <td>30.0</td>\n",
       "      <td>65</td>\n",
       "    </tr>\n",
       "    <tr>\n",
       "      <th>3</th>\n",
       "      <td>4708</td>\n",
       "      <td>28</td>\n",
       "      <td>Mughlai, North Indian, Chinese</td>\n",
       "      <td>250.0</td>\n",
       "      <td>99</td>\n",
       "      <td>3.7</td>\n",
       "      <td>176.0</td>\n",
       "      <td>95.0</td>\n",
       "      <td>30</td>\n",
       "    </tr>\n",
       "    <tr>\n",
       "      <th>4</th>\n",
       "      <td>4896</td>\n",
       "      <td>26</td>\n",
       "      <td>Cafe, Beverages</td>\n",
       "      <td>200.0</td>\n",
       "      <td>99</td>\n",
       "      <td>3.2</td>\n",
       "      <td>4.0</td>\n",
       "      <td>39.0</td>\n",
       "      <td>65</td>\n",
       "    </tr>\n",
       "  </tbody>\n",
       "</table>\n",
       "</div>"
      ],
      "text/plain": [
       "   Restaurant  Location                                Cuisines  Average_Cost  \\\n",
       "0        5086        10  Fast Food, Rolls, Burger, Salad, Wraps         200.0   \n",
       "1        1785        30                     Ice Cream, Desserts         100.0   \n",
       "2         571        19         Italian, Street Food, Fast Food         150.0   \n",
       "3        4708        28          Mughlai, North Indian, Chinese         250.0   \n",
       "4        4896        26                         Cafe, Beverages         200.0   \n",
       "\n",
       "   Minimum_Order  Rating  Votes  Reviews  Delivery_Time  \n",
       "0             50     3.5   12.0      4.0             30  \n",
       "1             50     3.5   11.0      4.0             30  \n",
       "2             50     3.6   99.0     30.0             65  \n",
       "3             99     3.7  176.0     95.0             30  \n",
       "4             99     3.2    4.0     39.0             65  "
      ]
     },
     "execution_count": 20,
     "metadata": {},
     "output_type": "execute_result"
    }
   ],
   "source": [
    "trainset.head()"
   ]
  },
  {
   "cell_type": "code",
   "execution_count": null,
   "metadata": {},
   "outputs": [],
   "source": []
  },
  {
   "cell_type": "code",
   "execution_count": 21,
   "metadata": {},
   "outputs": [],
   "source": [
    "# Let's look at the distribution of each column, this would help us choose the most ideal feature normalization method.\n",
    "# First let's define a method that plots the distribution of each feature.\n",
    "\n",
    "def plot_features(trainset):\n",
    "    plt.figure(figsize=(20, 10))\n",
    "    sns.set(font_scale=1.2)\n",
    "    sns.set_style('ticks') # change background to white background\n",
    "    plt.suptitle('Visualizing The Features Distribution', y=0.95)\n",
    "\n",
    "    plt.subplot(241)\n",
    "    color_list = ['gold','purple','brown']\n",
    "    trainset.Average_Cost.plot(kind='hist', color='brown')\n",
    "    plt.xlabel('Average_Cost')\n",
    "    plt.ylabel('Delivery_Time')\n",
    "\n",
    "    plt.subplot(242)\n",
    "    color_list = ['gold','purple','brown']\n",
    "    trainset.Minimum_Order.plot(kind='hist', color='brown')\n",
    "    plt.xlabel('Minimum_Order')\n",
    "    plt.ylabel('Delivery_Time')\n",
    "\n",
    "    plt.subplot(243)\n",
    "    color_list = ['gold','purple','brown']\n",
    "    trainset.Rating.plot(kind='hist', color='brown')\n",
    "    plt.xlabel('Rating')\n",
    "    plt.ylabel('Delivery_Time')\n",
    "\n",
    "\n",
    "    plt.subplot(244)\n",
    "    color_list = ['gold','purple','brown']\n",
    "    trainset.Votes.plot(kind='hist', color='brown')\n",
    "    plt.xlabel('Votes')\n",
    "    plt.ylabel('Delivery_Time')\n",
    "\n",
    "    plt.subplot(245)\n",
    "    color_list = ['gold','purple','brown']\n",
    "    trainset.Reviews.plot(kind='hist', color='brown')\n",
    "    plt.xlabel('Reviews')\n",
    "    plt.ylabel('Frequency')\n",
    "\n",
    "    plt.show()\n",
    "\n"
   ]
  },
  {
   "cell_type": "code",
   "execution_count": 22,
   "metadata": {},
   "outputs": [
    {
     "data": {
      "image/png": "[encoded data removed]",
      "text/plain": [
       "<Figure size 1440x720 with 5 Axes>"
      ]
     },
     "metadata": {
      "needs_background": "light"
     },
     "output_type": "display_data"
    }
   ],
   "source": [
    "plot_features(trainset)"
   ]
  },
  {
   "cell_type": "code",
   "execution_count": 23,
   "metadata": {},
   "outputs": [],
   "source": [
    "#reference link: https://www.kaggle.com/sabinhashmi/machine-hack-delivery-time-prediction\n",
    "### reference: https://github.com/chetanambi/Predicting-Food-Delivery-Time-Hackathon-by-IMS-Proschool/blob/master/predicting-food-delivery-time-catboost_0.83958.ipynb\n",
    "\n",
    "\n",
    "# Keep Copy of Train Data before transforming\n",
    "\n",
    "train_dataCopy = trainset.copy()"
   ]
  },
  {
   "cell_type": "code",
   "execution_count": 24,
   "metadata": {},
   "outputs": [],
   "source": [
    "trainset['Cuisines']=le.fit_transform(trainset['Cuisines'])"
   ]
  },
  {
   "cell_type": "code",
   "execution_count": 25,
   "metadata": {},
   "outputs": [],
   "source": [
    "x=trainset.drop('Delivery_Time',axis=1)\n",
    "y=trainset['Delivery_Time']"
   ]
  },
  {
   "cell_type": "code",
   "execution_count": 26,
   "metadata": {},
   "outputs": [],
   "source": [
    "x=x.apply(zscore)"
   ]
  },
  {
   "cell_type": "code",
   "execution_count": 27,
   "metadata": {},
   "outputs": [
    {
     "name": "stdout",
     "output_type": "stream",
     "text": [
      "                                          Model Used  R2-Score\n",
      "0  LogisticRegression(C=1.0, class_weight=None, d...  0.684890\n",
      "1  DecisionTreeClassifier(ccp_alpha=0.0, class_we...  0.711625\n",
      "2  KNeighborsClassifier(algorithm='auto', leaf_si...  0.690297\n",
      "3  (DecisionTreeClassifier(ccp_alpha=0.0, class_w...  0.777110\n",
      "4  (DecisionTreeClassifier(ccp_alpha=0.0, class_w...  0.632022\n",
      "5  (DecisionTreeClassifier(ccp_alpha=0.0, class_w...  0.766897\n",
      "6  (ExtraTreeClassifier(ccp_alpha=0.0, class_weig...  0.777711\n",
      "3.9 sec\n"
     ]
    }
   ],
   "source": [
    "start_time=time()\n",
    "model_list=[lr,dt,knn,rf,ada,bag,xtree]\n",
    "Score=[]\n",
    "for i in model_list:\n",
    "    x_train,x_test,y_train,y_test=train_test_split(x,y,test_size=0.3,random_state=100)\n",
    "    i.fit(x_train,y_train)\n",
    "    y_pred=i.predict(x_test)\n",
    "    score=accuracy_score(y_test,y_pred)\n",
    "    Score.append(score)\n",
    "print(pd.DataFrame(zip(model_list,Score),columns=['Model Used','R2-Score']))\n",
    "end_time=time()\n",
    "print(round(end_time-start_time,2),'sec')"
   ]
  },
  {
   "cell_type": "code",
   "execution_count": 28,
   "metadata": {},
   "outputs": [
    {
     "data": {
      "text/plain": [
       "0.779212976869931"
      ]
     },
     "execution_count": 28,
     "metadata": {},
     "output_type": "execute_result"
    }
   ],
   "source": [
    "x_train,x_test,y_train,y_test=train_test_split(x,y,test_size=0.3,random_state=100)\n",
    "rf=RandomForestClassifier(n_estimators=100,criterion='entropy',random_state=100)\n",
    "rf.fit(x_train,y_train)\n",
    "y_pred=rf.predict(x_test)\n",
    "accuracy_score(y_test,y_pred)"
   ]
  },
  {
   "cell_type": "code",
   "execution_count": 29,
   "metadata": {},
   "outputs": [
    {
     "data": {
      "text/html": [
       "<div>\n",
       "<style scoped>\n",
       "    .dataframe tbody tr th:only-of-type {\n",
       "        vertical-align: middle;\n",
       "    }\n",
       "\n",
       "    .dataframe tbody tr th {\n",
       "        vertical-align: top;\n",
       "    }\n",
       "\n",
       "    .dataframe thead th {\n",
       "        text-align: right;\n",
       "    }\n",
       "</style>\n",
       "<table border=\"1\" class=\"dataframe\">\n",
       "  <thead>\n",
       "    <tr style=\"text-align: right;\">\n",
       "      <th></th>\n",
       "      <th>Restaurant</th>\n",
       "      <th>Location</th>\n",
       "      <th>Cuisines</th>\n",
       "      <th>Average_Cost</th>\n",
       "      <th>Minimum_Order</th>\n",
       "      <th>Rating</th>\n",
       "      <th>Votes</th>\n",
       "      <th>Reviews</th>\n",
       "      <th>Delivery_Time</th>\n",
       "    </tr>\n",
       "  </thead>\n",
       "  <tbody>\n",
       "    <tr>\n",
       "      <th>0</th>\n",
       "      <td>5086</td>\n",
       "      <td>10</td>\n",
       "      <td>Fast Food, Rolls, Burger, Salad, Wraps</td>\n",
       "      <td>200.0</td>\n",
       "      <td>50</td>\n",
       "      <td>3.5</td>\n",
       "      <td>12.0</td>\n",
       "      <td>4.0</td>\n",
       "      <td>30</td>\n",
       "    </tr>\n",
       "    <tr>\n",
       "      <th>1</th>\n",
       "      <td>1785</td>\n",
       "      <td>30</td>\n",
       "      <td>Ice Cream, Desserts</td>\n",
       "      <td>100.0</td>\n",
       "      <td>50</td>\n",
       "      <td>3.5</td>\n",
       "      <td>11.0</td>\n",
       "      <td>4.0</td>\n",
       "      <td>30</td>\n",
       "    </tr>\n",
       "    <tr>\n",
       "      <th>2</th>\n",
       "      <td>571</td>\n",
       "      <td>19</td>\n",
       "      <td>Italian, Street Food, Fast Food</td>\n",
       "      <td>150.0</td>\n",
       "      <td>50</td>\n",
       "      <td>3.6</td>\n",
       "      <td>99.0</td>\n",
       "      <td>30.0</td>\n",
       "      <td>65</td>\n",
       "    </tr>\n",
       "    <tr>\n",
       "      <th>3</th>\n",
       "      <td>4708</td>\n",
       "      <td>28</td>\n",
       "      <td>Mughlai, North Indian, Chinese</td>\n",
       "      <td>250.0</td>\n",
       "      <td>99</td>\n",
       "      <td>3.7</td>\n",
       "      <td>176.0</td>\n",
       "      <td>95.0</td>\n",
       "      <td>30</td>\n",
       "    </tr>\n",
       "    <tr>\n",
       "      <th>4</th>\n",
       "      <td>4896</td>\n",
       "      <td>26</td>\n",
       "      <td>Cafe, Beverages</td>\n",
       "      <td>200.0</td>\n",
       "      <td>99</td>\n",
       "      <td>3.2</td>\n",
       "      <td>4.0</td>\n",
       "      <td>39.0</td>\n",
       "      <td>65</td>\n",
       "    </tr>\n",
       "  </tbody>\n",
       "</table>\n",
       "</div>"
      ],
      "text/plain": [
       "   Restaurant  Location                                Cuisines  Average_Cost  \\\n",
       "0        5086        10  Fast Food, Rolls, Burger, Salad, Wraps         200.0   \n",
       "1        1785        30                     Ice Cream, Desserts         100.0   \n",
       "2         571        19         Italian, Street Food, Fast Food         150.0   \n",
       "3        4708        28          Mughlai, North Indian, Chinese         250.0   \n",
       "4        4896        26                         Cafe, Beverages         200.0   \n",
       "\n",
       "   Minimum_Order  Rating  Votes  Reviews  Delivery_Time  \n",
       "0             50     3.5   12.0      4.0             30  \n",
       "1             50     3.5   11.0      4.0             30  \n",
       "2             50     3.6   99.0     30.0             65  \n",
       "3             99     3.7  176.0     95.0             30  \n",
       "4             99     3.2    4.0     39.0             65  "
      ]
     },
     "execution_count": 29,
     "metadata": {},
     "output_type": "execute_result"
    }
   ],
   "source": [
    "# we have text in column cusines which are contains food name. Food preration is one of factor affecting to time of food delivery.\n",
    "# Let us use some technique to analyze those text\n",
    "\n",
    "# Keep Copy of Train Data before transforming\n",
    "\n",
    "train_dataCopy.head(5)"
   ]
  },
  {
   "cell_type": "code",
   "execution_count": 30,
   "metadata": {},
   "outputs": [],
   "source": [
    "train_dataCopy['Cuisines']=train_dataCopy['Cuisines'].str.lower()\n",
    "train_dataCopy['Cuisines']=train_dataCopy['Cuisines'].str.replace('[^a-z]',' ')"
   ]
  },
  {
   "cell_type": "code",
   "execution_count": 31,
   "metadata": {},
   "outputs": [
    {
     "data": {
      "text/plain": [
       "CountVectorizer(analyzer='word', binary=False, decode_error='strict',\n",
       "                dtype=<class 'numpy.int64'>, encoding='utf-8', input='content',\n",
       "                lowercase=True, max_df=1.0, max_features=None, min_df=1,\n",
       "                ngram_range=(1, 1), preprocessor=None, stop_words=None,\n",
       "                strip_accents=None, token_pattern='(?u)\\\\b\\\\w\\\\w+\\\\b',\n",
       "                tokenizer=None, vocabulary=None)"
      ]
     },
     "execution_count": 31,
     "metadata": {},
     "output_type": "execute_result"
    }
   ],
   "source": [
    "count.fit(train_dataCopy['Cuisines'])\n"
   ]
  },
  {
   "cell_type": "code",
   "execution_count": 32,
   "metadata": {},
   "outputs": [],
   "source": [
    "Train_Cols=['Restaurant','Location','Average_Cost','Minimum_Order','Rating','Votes','Reviews']"
   ]
  },
  {
   "cell_type": "code",
   "execution_count": 33,
   "metadata": {},
   "outputs": [],
   "source": [
    "#Combine two columns of Cuisines and Delivery Time\n",
    "\n",
    "data=pd.concat([pd.DataFrame(zscore(train_dataCopy.drop(['Cuisines','Delivery_Time'],axis=1)),columns=Train_Cols),pd.DataFrame(count.transform(train_dataCopy['Cuisines']).todense())],axis=1)\n"
   ]
  },
  {
   "cell_type": "code",
   "execution_count": 34,
   "metadata": {},
   "outputs": [],
   "source": [
    "x=data\n",
    "y=train_dataCopy['Delivery_Time']"
   ]
  },
  {
   "cell_type": "code",
   "execution_count": 35,
   "metadata": {},
   "outputs": [
    {
     "data": {
      "text/plain": [
       "0.7912285971763292"
      ]
     },
     "execution_count": 35,
     "metadata": {},
     "output_type": "execute_result"
    }
   ],
   "source": [
    "x_train,x_test,y_train,y_test=train_test_split(x,y,test_size=0.3,random_state=42)\n",
    "rf=RandomForestClassifier(n_estimators=100,criterion='entropy',random_state=42)\n",
    "rf.fit(x_train,y_train)\n",
    "y_pred=rf.predict(x_test)\n",
    "accuracy_score(y_test,y_pred)"
   ]
  },
  {
   "cell_type": "markdown",
   "metadata": {},
   "source": [
    "### Applying PCA for Dimensionality Reduction."
   ]
  },
  {
   "cell_type": "code",
   "execution_count": 36,
   "metadata": {},
   "outputs": [],
   "source": [
    "x=data\n",
    "y=train_dataCopy['Delivery_Time']"
   ]
  },
  {
   "cell_type": "code",
   "execution_count": 37,
   "metadata": {},
   "outputs": [
    {
     "data": {
      "text/plain": [
       "(11094, 115)"
      ]
     },
     "execution_count": 37,
     "metadata": {},
     "output_type": "execute_result"
    }
   ],
   "source": [
    "x.shape"
   ]
  },
  {
   "cell_type": "code",
   "execution_count": 38,
   "metadata": {},
   "outputs": [
    {
     "data": {
      "text/plain": [
       "PCA(copy=True, iterated_power='auto', n_components=None, random_state=None,\n",
       "    svd_solver='auto', tol=0.0, whiten=False)"
      ]
     },
     "execution_count": 38,
     "metadata": {},
     "output_type": "execute_result"
    }
   ],
   "source": [
    "pca=PCA()\n",
    "pca.fit(x)"
   ]
  },
  {
   "cell_type": "code",
   "execution_count": 39,
   "metadata": {},
   "outputs": [
    {
     "data": {
      "text/plain": [
       "[<matplotlib.lines.Line2D at 0xada7990>]"
      ]
     },
     "execution_count": 39,
     "metadata": {},
     "output_type": "execute_result"
    },
    {
     "data": {
      "image/png": "[encoded data removed]",
      "text/plain": [
       "<Figure size 432x288 with 1 Axes>"
      ]
     },
     "metadata": {},
     "output_type": "display_data"
    }
   ],
   "source": [
    "plt.plot(np.cumsum(pca.explained_variance_ratio_))\n"
   ]
  },
  {
   "cell_type": "code",
   "execution_count": 40,
   "metadata": {},
   "outputs": [],
   "source": [
    "pca=PCA(n_components=22)\n"
   ]
  },
  {
   "cell_type": "code",
   "execution_count": 41,
   "metadata": {},
   "outputs": [],
   "source": [
    "x=pca.fit_transform(x)\n"
   ]
  },
  {
   "cell_type": "code",
   "execution_count": 42,
   "metadata": {},
   "outputs": [
    {
     "data": {
      "text/plain": [
       "0.7677981375788525"
      ]
     },
     "execution_count": 42,
     "metadata": {},
     "output_type": "execute_result"
    }
   ],
   "source": [
    "x_train,x_test,y_train,y_test=train_test_split(x,y,test_size=0.3,random_state=42)\n",
    "rf=RandomForestClassifier(n_estimators=100,criterion='entropy',random_state=42)\n",
    "rf.fit(x_train,y_train)\n",
    "y_pred=rf.predict(x_test)\n",
    "accuracy_score(y_test,y_pred)"
   ]
  },
  {
   "cell_type": "code",
   "execution_count": 43,
   "metadata": {},
   "outputs": [],
   "source": [
    "grid=GridSearchCV(rf,param_grid={'n_estimators':range(1,10)},return_train_score=1).fit(x_train,y_train)"
   ]
  },
  {
   "cell_type": "code",
   "execution_count": 44,
   "metadata": {},
   "outputs": [
    {
     "data": {
      "text/plain": [
       "(array([0., 1., 2., 3., 4., 5., 6., 7., 8.]),\n",
       " <a list of 9 Text xticklabel objects>)"
      ]
     },
     "execution_count": 44,
     "metadata": {},
     "output_type": "execute_result"
    },
    {
     "data": {
      "image/png": "[encoded data removed]",
      "text/plain": [
       "<Figure size 432x288 with 1 Axes>"
      ]
     },
     "metadata": {},
     "output_type": "display_data"
    }
   ],
   "source": [
    "pd.DataFrame(grid.cv_results_).set_index('params')['mean_test_score'].plot.line()\n",
    "pd.DataFrame(grid.cv_results_).set_index('params')['mean_train_score'].plot.line()\n",
    "plt.xticks(rotation=45)"
   ]
  },
  {
   "cell_type": "markdown",
   "metadata": {},
   "source": [
    "# working on test set"
   ]
  },
  {
   "cell_type": "code",
   "execution_count": 45,
   "metadata": {},
   "outputs": [],
   "source": [
    "testset['Restaurant']=le.fit_transform(testset['Restaurant'])\n",
    "testset['Location']=le.fit_transform(testset['Location'])\n",
    "testset['Minimum_Order']=pd.to_numeric(testset['Minimum_Order'].str.replace('₹',' '))\n",
    "testset['Average_Cost']=pd.to_numeric(testset['Average_Cost'].str.replace('[^0-9]',''))\n",
    "testset['Rating']=pd.to_numeric(testset['Rating'].apply(lambda x : np.nan if x in ['Temporarily Closed','Opening Soon','-','NEW'] else x))\n",
    "testset['Votes']=pd.to_numeric(testset['Votes'].apply(lambda x : np.nan if x=='-' else x))\n",
    "testset['Reviews']=pd.to_numeric(testset['Reviews'].apply(lambda x : np.nan if x=='-' else x))\n",
    "testset['Rating']=testset['Rating'].fillna(testset['Rating'].median())\n",
    "testset['Votes']=testset['Votes'].fillna(testset['Votes'].mode()[0])\n",
    "testset['Reviews']=testset['Reviews'].fillna(testset['Reviews'].median())\n",
    "testset['Average_Cost']=testset['Average_Cost'].fillna(testset['Average_Cost'].mean())\n",
    "\n",
    "\n",
    "sample = pd.read_excel(r'E:\\Huyen\\DS_Practice\\Predict Delivery Time\\Participants Data\\Sample_Submission.xlsx')\n",
    "\n",
    "sample['Delivery_Time']=le.fit_transform(pd.to_numeric(sample['Delivery_Time'].str.replace('[^0-9]','')))"
   ]
  },
  {
   "cell_type": "code",
   "execution_count": 47,
   "metadata": {},
   "outputs": [],
   "source": [
    "testset['Cuisines']=testset['Cuisines'].str.lower()\n",
    "testset['Cuisines']=testset['Cuisines'].str.replace('[^a-z]',' ')"
   ]
  },
  {
   "cell_type": "code",
   "execution_count": 49,
   "metadata": {},
   "outputs": [
    {
     "data": {
      "text/plain": [
       "CountVectorizer(analyzer='word', binary=False, decode_error='strict',\n",
       "                dtype=<class 'numpy.int64'>, encoding='utf-8', input='content',\n",
       "                lowercase=True, max_df=1.0, max_features=None, min_df=1,\n",
       "                ngram_range=(1, 1), preprocessor=None, stop_words=None,\n",
       "                strip_accents=None, token_pattern='(?u)\\\\b\\\\w\\\\w+\\\\b',\n",
       "                tokenizer=None, vocabulary=None)"
      ]
     },
     "execution_count": 49,
     "metadata": {},
     "output_type": "execute_result"
    }
   ],
   "source": [
    "count.fit(testset['Cuisines'])"
   ]
  },
  {
   "cell_type": "code",
   "execution_count": 50,
   "metadata": {},
   "outputs": [],
   "source": [
    "pca=PCA(n_components=22)"
   ]
  },
  {
   "cell_type": "code",
   "execution_count": 53,
   "metadata": {},
   "outputs": [],
   "source": [
    "data=pd.concat([pd.DataFrame(zscore(testset.drop(['Cuisines'],axis=1)),columns=Train_Cols),pd.DataFrame((count.transform(testset['Cuisines']).todense()))],axis=1)"
   ]
  },
  {
   "cell_type": "code",
   "execution_count": 54,
   "metadata": {},
   "outputs": [
    {
     "data": {
      "text/html": [
       "<div>\n",
       "<style scoped>\n",
       "    .dataframe tbody tr th:only-of-type {\n",
       "        vertical-align: middle;\n",
       "    }\n",
       "\n",
       "    .dataframe tbody tr th {\n",
       "        vertical-align: top;\n",
       "    }\n",
       "\n",
       "    .dataframe thead th {\n",
       "        text-align: right;\n",
       "    }\n",
       "</style>\n",
       "<table border=\"1\" class=\"dataframe\">\n",
       "  <thead>\n",
       "    <tr style=\"text-align: right;\">\n",
       "      <th></th>\n",
       "      <th>Restaurant</th>\n",
       "      <th>Location</th>\n",
       "      <th>Average_Cost</th>\n",
       "      <th>Minimum_Order</th>\n",
       "      <th>Rating</th>\n",
       "      <th>Votes</th>\n",
       "      <th>Reviews</th>\n",
       "      <th>0</th>\n",
       "      <th>1</th>\n",
       "      <th>2</th>\n",
       "      <th>...</th>\n",
       "      <th>82</th>\n",
       "      <th>83</th>\n",
       "      <th>84</th>\n",
       "      <th>85</th>\n",
       "      <th>86</th>\n",
       "      <th>87</th>\n",
       "      <th>88</th>\n",
       "      <th>89</th>\n",
       "      <th>90</th>\n",
       "      <th>91</th>\n",
       "    </tr>\n",
       "  </thead>\n",
       "  <tbody>\n",
       "    <tr>\n",
       "      <th>0</th>\n",
       "      <td>-0.897152</td>\n",
       "      <td>0.010057</td>\n",
       "      <td>1.350471</td>\n",
       "      <td>-0.177278</td>\n",
       "      <td>1.619203</td>\n",
       "      <td>0.368696</td>\n",
       "      <td>0.503777</td>\n",
       "      <td>0</td>\n",
       "      <td>0</td>\n",
       "      <td>0</td>\n",
       "      <td>...</td>\n",
       "      <td>0</td>\n",
       "      <td>0</td>\n",
       "      <td>0</td>\n",
       "      <td>0</td>\n",
       "      <td>0</td>\n",
       "      <td>0</td>\n",
       "      <td>0</td>\n",
       "      <td>0</td>\n",
       "      <td>0</td>\n",
       "      <td>0</td>\n",
       "    </tr>\n",
       "    <tr>\n",
       "      <th>1</th>\n",
       "      <td>1.093993</td>\n",
       "      <td>0.010057</td>\n",
       "      <td>-0.833142</td>\n",
       "      <td>-0.177278</td>\n",
       "      <td>-0.000097</td>\n",
       "      <td>-0.368519</td>\n",
       "      <td>-0.256583</td>\n",
       "      <td>0</td>\n",
       "      <td>0</td>\n",
       "      <td>0</td>\n",
       "      <td>...</td>\n",
       "      <td>0</td>\n",
       "      <td>0</td>\n",
       "      <td>0</td>\n",
       "      <td>0</td>\n",
       "      <td>0</td>\n",
       "      <td>0</td>\n",
       "      <td>0</td>\n",
       "      <td>0</td>\n",
       "      <td>0</td>\n",
       "      <td>0</td>\n",
       "    </tr>\n",
       "    <tr>\n",
       "      <th>2</th>\n",
       "      <td>-0.113111</td>\n",
       "      <td>1.155165</td>\n",
       "      <td>-0.833142</td>\n",
       "      <td>-0.177278</td>\n",
       "      <td>-0.000097</td>\n",
       "      <td>-0.308126</td>\n",
       "      <td>-0.294793</td>\n",
       "      <td>0</td>\n",
       "      <td>0</td>\n",
       "      <td>0</td>\n",
       "      <td>...</td>\n",
       "      <td>0</td>\n",
       "      <td>0</td>\n",
       "      <td>0</td>\n",
       "      <td>0</td>\n",
       "      <td>0</td>\n",
       "      <td>0</td>\n",
       "      <td>0</td>\n",
       "      <td>0</td>\n",
       "      <td>0</td>\n",
       "      <td>0</td>\n",
       "    </tr>\n",
       "    <tr>\n",
       "      <th>3</th>\n",
       "      <td>0.292626</td>\n",
       "      <td>-1.655553</td>\n",
       "      <td>0.040303</td>\n",
       "      <td>-0.177278</td>\n",
       "      <td>-0.000097</td>\n",
       "      <td>-0.245650</td>\n",
       "      <td>-0.229837</td>\n",
       "      <td>0</td>\n",
       "      <td>0</td>\n",
       "      <td>0</td>\n",
       "      <td>...</td>\n",
       "      <td>0</td>\n",
       "      <td>0</td>\n",
       "      <td>0</td>\n",
       "      <td>0</td>\n",
       "      <td>0</td>\n",
       "      <td>0</td>\n",
       "      <td>0</td>\n",
       "      <td>0</td>\n",
       "      <td>0</td>\n",
       "      <td>0</td>\n",
       "    </tr>\n",
       "    <tr>\n",
       "      <th>4</th>\n",
       "      <td>-0.715220</td>\n",
       "      <td>1.155165</td>\n",
       "      <td>-0.396419</td>\n",
       "      <td>-0.177278</td>\n",
       "      <td>-1.889281</td>\n",
       "      <td>-0.303961</td>\n",
       "      <td>-0.302434</td>\n",
       "      <td>0</td>\n",
       "      <td>0</td>\n",
       "      <td>0</td>\n",
       "      <td>...</td>\n",
       "      <td>0</td>\n",
       "      <td>0</td>\n",
       "      <td>0</td>\n",
       "      <td>0</td>\n",
       "      <td>0</td>\n",
       "      <td>0</td>\n",
       "      <td>0</td>\n",
       "      <td>0</td>\n",
       "      <td>0</td>\n",
       "      <td>0</td>\n",
       "    </tr>\n",
       "  </tbody>\n",
       "</table>\n",
       "<p>5 rows × 99 columns</p>\n",
       "</div>"
      ],
      "text/plain": [
       "   Restaurant  Location  Average_Cost  Minimum_Order    Rating     Votes  \\\n",
       "0   -0.897152  0.010057      1.350471      -0.177278  1.619203  0.368696   \n",
       "1    1.093993  0.010057     -0.833142      -0.177278 -0.000097 -0.368519   \n",
       "2   -0.113111  1.155165     -0.833142      -0.177278 -0.000097 -0.308126   \n",
       "3    0.292626 -1.655553      0.040303      -0.177278 -0.000097 -0.245650   \n",
       "4   -0.715220  1.155165     -0.396419      -0.177278 -1.889281 -0.303961   \n",
       "\n",
       "    Reviews  0  1  2  ...  82  83  84  85  86  87  88  89  90  91  \n",
       "0  0.503777  0  0  0  ...   0   0   0   0   0   0   0   0   0   0  \n",
       "1 -0.256583  0  0  0  ...   0   0   0   0   0   0   0   0   0   0  \n",
       "2 -0.294793  0  0  0  ...   0   0   0   0   0   0   0   0   0   0  \n",
       "3 -0.229837  0  0  0  ...   0   0   0   0   0   0   0   0   0   0  \n",
       "4 -0.302434  0  0  0  ...   0   0   0   0   0   0   0   0   0   0  \n",
       "\n",
       "[5 rows x 99 columns]"
      ]
     },
     "execution_count": 54,
     "metadata": {},
     "output_type": "execute_result"
    }
   ],
   "source": [
    "data.head()"
   ]
  },
  {
   "cell_type": "code",
   "execution_count": 55,
   "metadata": {},
   "outputs": [],
   "source": [
    "x=pca.fit_transform(data)\n"
   ]
  },
  {
   "cell_type": "code",
   "execution_count": 56,
   "metadata": {},
   "outputs": [],
   "source": [
    "data['Delivery_Time']=pd.DataFrame(rf.predict(x))\n"
   ]
  },
  {
   "cell_type": "code",
   "execution_count": 57,
   "metadata": {},
   "outputs": [
    {
     "data": {
      "text/plain": [
       "30    2529\n",
       "45     244\n",
       "65       1\n",
       "Name: Delivery_Time, dtype: int64"
      ]
     },
     "execution_count": 57,
     "metadata": {},
     "output_type": "execute_result"
    }
   ],
   "source": [
    "data['Delivery_Time'].value_counts()\n"
   ]
  },
  {
   "cell_type": "code",
   "execution_count": 58,
   "metadata": {},
   "outputs": [],
   "source": [
    "sample_refined=[]\n",
    "for i in data['Delivery_Time']:\n",
    "    i=(str(i)+' minutes')\n",
    "    sample_refined.append(i)"
   ]
  },
  {
   "cell_type": "code",
   "execution_count": 62,
   "metadata": {},
   "outputs": [],
   "source": [
    "sample_refined=pd.DataFrame(sample_refined,columns=['Delivery_Time'])\n",
    "sample_refined.to_excel('Final_Submit.xlsx',index=False)"
   ]
  },
  {
   "cell_type": "code",
   "execution_count": 63,
   "metadata": {},
   "outputs": [
    {
     "data": {
      "text/plain": [
       "30 minutes    2529\n",
       "45 minutes     244\n",
       "65 minutes       1\n",
       "Name: Delivery_Time, dtype: int64"
      ]
     },
     "execution_count": 63,
     "metadata": {},
     "output_type": "execute_result"
    }
   ],
   "source": [
    "pd.read_excel('Final_Submit.xlsx')['Delivery_Time'].value_counts()"
   ]
  },
  {
   "cell_type": "code",
   "execution_count": null,
   "metadata": {},
   "outputs": [],
   "source": []
  }
 ],
 "metadata": {
  "kernelspec": {
   "display_name": "Python 3",
   "language": "python",
   "name": "python3"
  },
  "language_info": {
   "codemirror_mode": {
    "name": "ipython",
    "version": 3
   },
   "file_extension": ".py",
   "mimetype": "text/x-python",
   "name": "python",
   "nbconvert_exporter": "python",
   "pygments_lexer": "ipython3",
   "version": "3.7.3"
  }
 },
 "nbformat": 4,
 "nbformat_minor": 2
}
